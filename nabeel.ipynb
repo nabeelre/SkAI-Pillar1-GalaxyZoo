{
 "cells": [
  {
   "cell_type": "code",
   "execution_count": 1,
   "id": "914fca42-b97d-4de6-80f5-f845ceb635db",
   "metadata": {},
   "outputs": [],
   "source": [
    "import pandas as pd\n",
    "import utils\n",
    "import os"
   ]
  },
  {
   "cell_type": "markdown",
   "id": "9f151198",
   "metadata": {},
   "source": [
    "### Merge SDSS and image mapping columns into spec_sample and phot_sample"
   ]
  },
  {
   "cell_type": "code",
   "execution_count": null,
   "id": "d6177b26-d524-4cf7-8ae1-42cb586035d2",
   "metadata": {},
   "outputs": [],
   "source": [
    "spec_sample = pd.read_csv(\"data/zoo2MainSpecz.csv\")\n",
    "phot_sample = pd.read_csv(\"data/zoo2MainPhotoz.csv\")\n",
    "SDSS = pd.read_csv(\"data/gz2sample.csv\")\n",
    "image_mapping = pd.read_csv(\"data/3565489/gz2_filename_mapping.csv\")"
   ]
  },
  {
   "cell_type": "code",
   "execution_count": null,
   "id": "c27dbc4e-3921-4ae3-a60d-3c717cbe44b7",
   "metadata": {
    "vscode": {
     "languageId": "powershell"
    }
   },
   "outputs": [],
   "source": [
    "# Merge spec_sample with SDSS on the dr7objid and OBJID columns\n",
    "spec_sample = spec_sample.merge(SDSS[['OBJID', 'REDSHIFT', 'REDSHIFTERR',\n",
    "                                      'PETROR50_R', 'PETROR90_R', 'PETROMAG_U',\n",
    "                                      'PETROMAG_G', 'PETROMAG_R', 'PETROMAG_I',\n",
    "                                      'PETROMAG_Z', 'PETROMAGERR_U', 'PETROMAGERR_G',\n",
    "                                      'PETROMAGERR_R', 'PETROMAGERR_I', 'PETROMAGERR_Z']], \n",
    "                                left_on='dr7objid', \n",
    "                                right_on='OBJID', \n",
    "                                how='left')\n",
    "\n",
    "phot_sample = phot_sample.merge(SDSS[['OBJID', 'PETROR50_R', 'PETROR90_R',\n",
    "                                      'PETROMAG_U', 'PETROMAG_G', 'PETROMAG_R', 'PETROMAG_I',\n",
    "                                      'PETROMAG_Z', 'PETROMAGERR_U', 'PETROMAGERR_G',\n",
    "                                      'PETROMAGERR_R', 'PETROMAGERR_I', 'PETROMAGERR_Z']], \n",
    "                                left_on='dr7objid', \n",
    "                                right_on='OBJID', \n",
    "                                how='left')\n",
    "\n",
    "# Drop the redundant OBJID column after merging\n",
    "spec_sample.drop(columns=['OBJID'], inplace=True)\n",
    "phot_sample.drop(columns=['OBJID'], inplace=True)"
   ]
  },
  {
   "cell_type": "code",
   "execution_count": null,
   "id": "ccd6228c",
   "metadata": {
    "vscode": {
     "languageId": "powershell"
    }
   },
   "outputs": [],
   "source": [
    "# Merge spec_sample with SDSS on the dr7objid and OBJID columns\n",
    "spec_sample = spec_sample.merge(image_mapping[['objid', 'asset_id']], \n",
    "                                left_on='dr7objid', \n",
    "                                right_on='objid', \n",
    "                                how='left')\n",
    "\n",
    "phot_sample = phot_sample.merge(image_mapping[['objid', 'asset_id']], \n",
    "                                left_on='dr7objid', \n",
    "                                right_on='objid', \n",
    "                                how='left')\n",
    "\n",
    "# Drop the redundant objid column after merging\n",
    "spec_sample.drop(columns=['objid'], inplace=True)\n",
    "phot_sample.drop(columns=['objid'], inplace=True)"
   ]
  },
  {
   "cell_type": "code",
   "execution_count": null,
   "id": "0485dba8",
   "metadata": {},
   "outputs": [],
   "source": [
    "spec_sample.to_csv(\"data/spec_sample.csv\", index=False)\n",
    "phot_sample.to_csv(\"data/phot_sample.csv\", index=False)"
   ]
  },
  {
   "cell_type": "markdown",
   "id": "b12fa015",
   "metadata": {},
   "source": [
    "### Remove entries in spec_sample without images present"
   ]
  },
  {
   "cell_type": "code",
   "execution_count": null,
   "id": "e7651918",
   "metadata": {},
   "outputs": [],
   "source": [
    "df = pd.read_csv(\"data/spec_sample.csv\")"
   ]
  },
  {
   "cell_type": "code",
   "execution_count": null,
   "id": "70cdd983",
   "metadata": {},
   "outputs": [],
   "source": [
    "missing_asset_ids = []\n",
    "\n",
    "for index, row in df.iterrows():\n",
    "    file_path = f\"data/3565489/images/{row['asset_id']}.jpg\"\n",
    "    if os.path.exists(file_path):\n",
    "        pass\n",
    "        # print(f\"File exists: {file_path}\")\n",
    "    else:\n",
    "        # print(f\"{file_path}\", row['asset_id'])\n",
    "        missing_asset_ids.append(row['asset_id'])\n",
    "        \n",
    "print(len(missing_asset_ids) / len(df))"
   ]
  },
  {
   "cell_type": "code",
   "execution_count": null,
   "id": "4c023e11",
   "metadata": {},
   "outputs": [],
   "source": [
    "df = df[~df['asset_id'].isin(missing_asset_ids)]\n",
    "df.to_csv(\"data/phot_sample.csv\", index=False)"
   ]
  },
  {
   "cell_type": "markdown",
   "id": "95108452",
   "metadata": {},
   "source": [
    "### Test utils"
   ]
  },
  {
   "cell_type": "code",
   "execution_count": null,
   "id": "a67ea518",
   "metadata": {},
   "outputs": [],
   "source": [
    "utils.show_image_by_assetid(523)"
   ]
  },
  {
   "cell_type": "markdown",
   "id": "10348a93",
   "metadata": {},
   "source": [
    "### Simplify morphology classification column and add ancillary classification columns"
   ]
  },
  {
   "cell_type": "code",
   "execution_count": 2,
   "id": "98322e8d",
   "metadata": {},
   "outputs": [],
   "source": [
    "df = pd.read_csv(\"data/spec_sample.csv\", index_col=None)"
   ]
  },
  {
   "cell_type": "code",
   "execution_count": 3,
   "id": "6989e3bd",
   "metadata": {},
   "outputs": [],
   "source": [
    "special_features = {\n",
    "    'ring': r'\\(r\\)',\n",
    "    'lens/arc': r'\\(l\\)',\n",
    "    'disturbed': r'\\(d\\)',\n",
    "    'irregular': r'\\(i\\)',\n",
    "    'other': r'\\(o\\)',\n",
    "    'merger': r'\\(m\\)',\n",
    "    'dust lane': r'\\(u\\)',\n",
    "}\n",
    "\n",
    "df['morphology'] = df['gz2class']\n",
    "\n",
    "for feature, pattern in special_features.items():\n",
    "    df[feature] = 0\n",
    "    df.loc[df['gz2class'].str.contains(pattern, na=False), feature] = 1\n",
    "    df['morphology'] = df['morphology'].str.replace(pattern, '', regex=True)\n",
    "\n"
   ]
  },
  {
   "cell_type": "code",
   "execution_count": 4,
   "id": "b94f96d7",
   "metadata": {},
   "outputs": [],
   "source": [
    "df['arm_count'] = df['morphology'].apply(lambda x: x[-2] if (x.startswith('S')) and (len(x) >3) else None)\n",
    "df['arm_winding'] = df['morphology'].apply(lambda x: x[-1] if (x.startswith('S')) and (len(x) >3) else None)\n",
    "\n",
    "df['morphology'] = df['morphology'].apply(lambda x: x[:-2] if (x.startswith('S') and len(x) > 3) else x)"
   ]
  },
  {
   "cell_type": "code",
   "execution_count": 5,
   "id": "012e3de1",
   "metadata": {},
   "outputs": [],
   "source": [
    "df.to_csv(\"data/spec_sample.csv\", index=False)"
   ]
  },
  {
   "cell_type": "code",
   "execution_count": null,
   "id": "614f597d",
   "metadata": {},
   "outputs": [],
   "source": [
    "for asset_id in df.loc[df['arm_winding'] == 't', 'asset_id'].to_numpy()[0:5]:\n",
    "    print(asset_id)\n",
    "    utils.show_image_by_assetid(asset_id)\n",
    "    "
   ]
  },
  {
   "cell_type": "code",
   "execution_count": null,
   "id": "a2d25e41",
   "metadata": {},
   "outputs": [],
   "source": []
  }
 ],
 "metadata": {
  "kernelspec": {
   "display_name": "BTSbot",
   "language": "python",
   "name": "python3"
  },
  "language_info": {
   "codemirror_mode": {
    "name": "ipython",
    "version": 3
   },
   "file_extension": ".py",
   "mimetype": "text/x-python",
   "name": "python",
   "nbconvert_exporter": "python",
   "pygments_lexer": "ipython3",
   "version": "3.10.16"
  }
 },
 "nbformat": 4,
 "nbformat_minor": 5
}
