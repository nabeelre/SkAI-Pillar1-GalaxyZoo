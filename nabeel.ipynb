{
 "cells": [
  {
   "cell_type": "code",
   "execution_count": null,
   "id": "914fca42-b97d-4de6-80f5-f845ceb635db",
   "metadata": {},
   "outputs": [],
   "source": [
    "import pandas as pd\n",
    "import numpy as np\n",
    "import utils\n",
    "import os"
   ]
  },
  {
   "cell_type": "markdown",
   "id": "9f151198",
   "metadata": {},
   "source": [
    "### Merge SDSS and image mapping columns into spec_sample and phot_sample"
   ]
  },
  {
   "cell_type": "code",
   "execution_count": null,
   "id": "d6177b26-d524-4cf7-8ae1-42cb586035d2",
   "metadata": {},
   "outputs": [],
   "source": [
    "spec_sample = pd.read_csv(\"data/zoo2MainSpecz.csv\")\n",
    "phot_sample = pd.read_csv(\"data/zoo2MainPhotoz.csv\")\n",
    "SDSS = pd.read_csv(\"data/gz2sample.csv\")\n",
    "image_mapping = pd.read_csv(\"data/3565489/gz2_filename_mapping.csv\")"
   ]
  },
  {
   "cell_type": "code",
   "execution_count": null,
   "id": "c27dbc4e-3921-4ae3-a60d-3c717cbe44b7",
   "metadata": {
    "vscode": {
     "languageId": "powershell"
    }
   },
   "outputs": [],
   "source": [
    "# Merge spec_sample with SDSS on the dr7objid and OBJID columns\n",
    "spec_sample = spec_sample.merge(SDSS[['OBJID', 'REDSHIFT', 'REDSHIFTERR',\n",
    "                                      'PETROR50_R', 'PETROR90_R', 'PETROMAG_U',\n",
    "                                      'PETROMAG_G', 'PETROMAG_R', 'PETROMAG_I',\n",
    "                                      'PETROMAG_Z', 'PETROMAGERR_U', 'PETROMAGERR_G',\n",
    "                                      'PETROMAGERR_R', 'PETROMAGERR_I', 'PETROMAGERR_Z']], \n",
    "                                left_on='dr7objid', \n",
    "                                right_on='OBJID', \n",
    "                                how='left')\n",
    "\n",
    "phot_sample = phot_sample.merge(SDSS[['OBJID', 'PETROR50_R', 'PETROR90_R',\n",
    "                                      'PETROMAG_U', 'PETROMAG_G', 'PETROMAG_R', 'PETROMAG_I',\n",
    "                                      'PETROMAG_Z', 'PETROMAGERR_U', 'PETROMAGERR_G',\n",
    "                                      'PETROMAGERR_R', 'PETROMAGERR_I', 'PETROMAGERR_Z']], \n",
    "                                left_on='dr7objid', \n",
    "                                right_on='OBJID', \n",
    "                                how='left')\n",
    "\n",
    "# Drop the redundant OBJID column after merging\n",
    "spec_sample.drop(columns=['OBJID'], inplace=True)\n",
    "phot_sample.drop(columns=['OBJID'], inplace=True)"
   ]
  },
  {
   "cell_type": "code",
   "execution_count": null,
   "id": "ccd6228c",
   "metadata": {
    "vscode": {
     "languageId": "powershell"
    }
   },
   "outputs": [],
   "source": [
    "# Merge spec_sample with SDSS on the dr7objid and OBJID columns\n",
    "spec_sample = spec_sample.merge(image_mapping[['objid', 'asset_id']], \n",
    "                                left_on='dr7objid', \n",
    "                                right_on='objid', \n",
    "                                how='left')\n",
    "\n",
    "phot_sample = phot_sample.merge(image_mapping[['objid', 'asset_id']], \n",
    "                                left_on='dr7objid', \n",
    "                                right_on='objid', \n",
    "                                how='left')\n",
    "\n",
    "# Drop the redundant objid column after merging\n",
    "spec_sample.drop(columns=['objid'], inplace=True)\n",
    "phot_sample.drop(columns=['objid'], inplace=True)"
   ]
  },
  {
   "cell_type": "code",
   "execution_count": null,
   "id": "0485dba8",
   "metadata": {},
   "outputs": [],
   "source": [
    "spec_sample.to_csv(\"data/spec_sample.csv\", index=False)\n",
    "phot_sample.to_csv(\"data/phot_sample.csv\", index=False)"
   ]
  },
  {
   "cell_type": "markdown",
   "id": "b12fa015",
   "metadata": {},
   "source": [
    "### Remove entries in spec_sample without images present"
   ]
  },
  {
   "cell_type": "code",
   "execution_count": null,
   "id": "e7651918",
   "metadata": {},
   "outputs": [],
   "source": [
    "df = pd.read_csv(\"data/spec_sample.csv\")"
   ]
  },
  {
   "cell_type": "code",
   "execution_count": null,
   "id": "70cdd983",
   "metadata": {},
   "outputs": [],
   "source": [
    "missing_asset_ids = []\n",
    "\n",
    "for index, row in df.iterrows():\n",
    "    file_path = f\"data/3565489/images/{row['asset_id']}.jpg\"\n",
    "    if os.path.exists(file_path):\n",
    "        pass\n",
    "        # print(f\"File exists: {file_path}\")\n",
    "    else:\n",
    "        # print(f\"{file_path}\", row['asset_id'])\n",
    "        missing_asset_ids.append(row['asset_id'])\n",
    "        \n",
    "print(len(missing_asset_ids) / len(df))"
   ]
  },
  {
   "cell_type": "code",
   "execution_count": null,
   "id": "4c023e11",
   "metadata": {},
   "outputs": [],
   "source": [
    "df = df[~df['asset_id'].isin(missing_asset_ids)]\n",
    "df.to_csv(\"data/spec_sample.csv\", index=False)"
   ]
  },
  {
   "cell_type": "markdown",
   "id": "7458e09b",
   "metadata": {},
   "source": [
    "### Merge spec_sample with embeddings"
   ]
  },
  {
   "cell_type": "code",
   "execution_count": null,
   "id": "14f2453c",
   "metadata": {},
   "outputs": [],
   "source": [
    "spec_sample = pd.read_csv(\"data/spec_sample.csv\", index_col=None)\n",
    "emb = pd.read_csv(\"embedding.csv\", index_col=None)\n",
    "\n",
    "merged_data = pd.merge(spec_sample, emb, on='dr7objid', how='inner')"
   ]
  },
  {
   "cell_type": "code",
   "execution_count": null,
   "id": "70636efd",
   "metadata": {},
   "outputs": [],
   "source": [
    "columns_to_drop = [col for col in merged_data.columns if col.startswith('t') and col[1:3].isdigit() or 'untitled' in col.lower()]\n",
    "columns_to_drop += ['class', 'Unnamed: 0']\n",
    "\n",
    "merged_data = merged_data.drop(columns=columns_to_drop)"
   ]
  },
  {
   "cell_type": "code",
   "execution_count": null,
   "id": "e7955cd3",
   "metadata": {},
   "outputs": [],
   "source": [
    "merged_data.to_csv(\"data/gz2_data.csv\", index=False)\n"
   ]
  },
  {
   "cell_type": "markdown",
   "id": "95108452",
   "metadata": {},
   "source": [
    "### Test utils"
   ]
  },
  {
   "cell_type": "code",
   "execution_count": null,
   "id": "a67ea518",
   "metadata": {},
   "outputs": [],
   "source": [
    "utils.show_image_by_assetid(523)"
   ]
  },
  {
   "cell_type": "markdown",
   "id": "10348a93",
   "metadata": {},
   "source": [
    "### Simplify morphology classification column and add ancillary classification columns"
   ]
  },
  {
   "cell_type": "code",
   "execution_count": null,
   "id": "98322e8d",
   "metadata": {},
   "outputs": [],
   "source": [
    "df = pd.read_csv(\"data/spec_sample.csv\", index_col=None)"
   ]
  },
  {
   "cell_type": "code",
   "execution_count": null,
   "id": "6989e3bd",
   "metadata": {},
   "outputs": [],
   "source": [
    "special_features = {\n",
    "    'ring': r'\\(r\\)',\n",
    "    'lens/arc': r'\\(l\\)',\n",
    "    'disturbed': r'\\(d\\)',\n",
    "    'irregular': r'\\(i\\)',\n",
    "    'other': r'\\(o\\)',\n",
    "    'merger': r'\\(m\\)',\n",
    "    'dust lane': r'\\(u\\)',\n",
    "}\n",
    "\n",
    "df['morphology'] = df['gz2class']\n",
    "\n",
    "for feature, pattern in special_features.items():\n",
    "    df[feature] = 0\n",
    "    df.loc[df['gz2class'].str.contains(pattern, na=False), feature] = 1\n",
    "    df['morphology'] = df['morphology'].str.replace(pattern, '', regex=True)\n",
    "\n"
   ]
  },
  {
   "cell_type": "code",
   "execution_count": null,
   "id": "b94f96d7",
   "metadata": {},
   "outputs": [],
   "source": [
    "df['arm_count'] = df['morphology'].apply(lambda x: x[-2] if (x.startswith('S')) and (len(x) >3) else None)\n",
    "df['arm_winding'] = df['morphology'].apply(lambda x: x[-1] if (x.startswith('S')) and (len(x) >3) else None)\n",
    "\n",
    "df['morphology'] = df['morphology'].apply(lambda x: x[:-2] if (x.startswith('S') and len(x) > 3) else x)"
   ]
  },
  {
   "cell_type": "code",
   "execution_count": null,
   "id": "012e3de1",
   "metadata": {},
   "outputs": [],
   "source": [
    "df.to_csv(\"data/spec_sample.csv\", index=False)"
   ]
  },
  {
   "cell_type": "code",
   "execution_count": null,
   "id": "614f597d",
   "metadata": {},
   "outputs": [],
   "source": [
    "for asset_id in df.loc[df['arm_winding'] == 't', 'asset_id'].to_numpy()[0:5]:\n",
    "    print(asset_id)\n",
    "    utils.show_image_by_assetid(asset_id)\n",
    "    "
   ]
  },
  {
   "cell_type": "code",
   "execution_count": null,
   "id": "a2d25e41",
   "metadata": {},
   "outputs": [],
   "source": []
  },
  {
   "cell_type": "code",
   "execution_count": null,
   "id": "485e1dd1",
   "metadata": {},
   "outputs": [],
   "source": [
    "emb = pd.read_csv(\"embedding.csv\", index_col=None)\n",
    "spec_sample = pd.read_csv(\"data/spec_sample.csv\", index_col=None)"
   ]
  },
  {
   "cell_type": "code",
   "execution_count": null,
   "id": "045f5b8b",
   "metadata": {},
   "outputs": [],
   "source": [
    "# Merge spec_sample with SDSS on the dr7objid and OBJID columns\n",
    "emb = emb.merge(spec_sample[['dr7objid', 'asset_id', 'REDSHIFT', 'morphology']], \n",
    "                left_on='dr7objid', \n",
    "                right_on='dr7objid', \n",
    "                how='left')\n"
   ]
  },
  {
   "cell_type": "code",
   "execution_count": null,
   "id": "cbd2e6f3",
   "metadata": {},
   "outputs": [],
   "source": [
    "emb['is_spiral'] = emb['morphology'].apply(lambda x: 1 if str(x).startswith(\"S\") else 0)\n"
   ]
  },
  {
   "cell_type": "code",
   "execution_count": null,
   "id": "903ac792",
   "metadata": {},
   "outputs": [],
   "source": [
    "embedding_vectors = [row['embedding_0':'embedding_767'].values for _, row in emb.iterrows()]\n",
    "np.shape(embedding_vectors)"
   ]
  },
  {
   "cell_type": "code",
   "execution_count": null,
   "id": "9d52a3d6",
   "metadata": {},
   "outputs": [],
   "source": [
    "from sklearn.ensemble import RandomForestClassifier\n",
    "from sklearn.model_selection import train_test_split\n",
    "from sklearn.metrics import classification_report, accuracy_score\n",
    "\n",
    "# Prepare the data\n",
    "X = np.array(embedding_vectors)\n",
    "y = emb['is_spiral']\n",
    "\n",
    "# Split the data into training and testing sets\n",
    "X_train, X_test, y_train, y_test = train_test_split(X, y, test_size=0.2, random_state=42)\n",
    "\n",
    "# Create and train the Random Forest model\n",
    "rf_model = RandomForestClassifier(n_estimators=100, random_state=42)\n",
    "rf_model.fit(X_train, y_train)\n",
    "\n",
    "# Make predictions\n",
    "y_pred = rf_model.predict(X_test)\n",
    "\n",
    "# Evaluate the model\n",
    "print(\"Accuracy:\", accuracy_score(y_test, y_pred))\n",
    "print(\"Classification Report:\\n\", classification_report(y_test, y_pred))"
   ]
  },
  {
   "cell_type": "code",
   "execution_count": null,
   "id": "ac234de3",
   "metadata": {},
   "outputs": [],
   "source": [
    "import umap.umap_ as umap\n",
    "\n",
    "# Initialize UMAP with default parameters\n",
    "umap_model = umap.UMAP()\n",
    "\n",
    "# Fit and transform the embedding vectors\n",
    "embedding_2d = umap_model.fit_transform(embedding_vectors)\n",
    "\n",
    "# Convert the result to a DataFrame for easier handling\n",
    "embedding_2d_df = pd.DataFrame(embedding_2d, columns=['UMAP_1', 'UMAP_2'])\n",
    "\n",
    "# Display the first few rows of the transformed data\n",
    "print(embedding_2d_df.head())"
   ]
  },
  {
   "cell_type": "code",
   "execution_count": null,
   "id": "e6cd98c9",
   "metadata": {},
   "outputs": [],
   "source": [
    "import matplotlib.pyplot as plt\n",
    "\n",
    "# Create a scatter plot of the UMAP 2D embedding\n",
    "plt.figure(figsize=(10, 8))\n",
    "categories = emb['morphology'].astype('category').cat.codes\n",
    "plt.scatter(embedding_2d[:, 0], embedding_2d[:, 1], c=categories, s=10, alpha=0.7, cmap='viridis')\n",
    "plt.title('UMAP 2D Embedding Colored by Morphology Categories')\n",
    "plt.xlabel('UMAP_1')\n",
    "plt.ylabel('UMAP_2')\n",
    "plt.colorbar(label='Density')\n",
    "plt.show()"
   ]
  },
  {
   "cell_type": "code",
   "execution_count": null,
   "id": "b2ab2b99",
   "metadata": {},
   "outputs": [],
   "source": []
  }
 ],
 "metadata": {
  "kernelspec": {
   "display_name": "BTSbot",
   "language": "python",
   "name": "python3"
  },
  "language_info": {
   "codemirror_mode": {
    "name": "ipython",
    "version": 3
   },
   "file_extension": ".py",
   "mimetype": "text/x-python",
   "name": "python",
   "nbconvert_exporter": "python",
   "pygments_lexer": "ipython3",
   "version": "3.10.16"
  }
 },
 "nbformat": 4,
 "nbformat_minor": 5
}
