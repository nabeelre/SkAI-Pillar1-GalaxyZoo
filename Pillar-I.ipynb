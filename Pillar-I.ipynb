{
 "cells": [
  {
   "cell_type": "markdown",
   "id": "2d6e6a87",
   "metadata": {},
   "source": [
    "## Overview\n",
    "**Adam?**\n",
    "\n",
    "\n",
    "### Galaxy Zoo Project\n",
    "Galaxy Zoo is a citizen science project that enlists volunteers to visually classify galaxies based on their morphology using images from various telescopes ([Lintott et al., 2008](https://doi.org/10.1111/j.1365-2966.2008.13689.x)). With immense contributions from citizen scientists, this effort has yielded large, labeled data sets well suited for large-scale data analysis in astronomy. We will work with Galaxy Zoo 2, which involves classified images of ~240,000 galaxies from the Sloan Digital Sky Survey ([Willett et al., 2013](https://doi.org/10.1093/mnras/stt1458); [Hart et al., 2016](https://academic.oup.com/mnras/article/461/4/3663/2608720)).\n",
    "\n",
    "### Swin Transformer\n",
    "We will process the galaxy images with a **Swin Transformer**, a hierarchical vision transformer model that computes self-attention within shifted windows, achieving state-of-the-art performance on computer vision tasks ([Liu et al., 2021](https://arxiv.org/abs/2103.14030)). Its design enables efficient computation and scalability to various image resolutions, making it suitable for diverse applications.\n",
    "\n",
    "Today, we'll work with a Swin Transformer pretrained on the ImageNet dataset: a large-scale image database containing millions of labeled images across 1,000 categories like cats, dogs, oil filters, and balloons. Although a model trained on such images may not appear useful for galaxy classification, we'll find that this pre-trained Swin Transformer is a generally effective tool for extracting information from images.\n",
    "\n",
    "### Embeddings\n",
    "Nabeel and Ved have run all ~240,000 Galaxy Zoo 2 images through this pre-trained Swin Transformer, producing **embeddings**. These embeddings are dense 1D vector representations of the data, ideally capturing all useful information in the image in a low-dimensional space.\n",
    "\n",
    "### Possibile tasks with Galaxy Zoo 2 embeddings\n",
    "1. Galaxy morphology classification\n",
    "2. Photometric redshift estimation\n",
    "3. Anomalous galaxy detection\n",
    "4. (*Challenge*) Fine-tuning a pre-trained model to compete with state-of-the-art performance\n",
    "\n",
    "\n",
    "### Let's start with loading the data"
   ]
  },
  {
   "cell_type": "code",
   "execution_count": null,
   "id": "a6ce9939",
   "metadata": {},
   "outputs": [],
   "source": [
    "import numpy as np\n",
    "import pandas as pd\n",
    "import matplotlib.pyplot as plt\n",
    "from utils import show_image_by_assetid"
   ]
  },
  {
   "cell_type": "code",
   "execution_count": null,
   "id": "4e313c90",
   "metadata": {},
   "outputs": [],
   "source": [
    "gz_df = pd.read_csv('data/spec_sample.csv', index_col=None)\n",
    "gz_df.describe()"
   ]
  },
  {
   "cell_type": "markdown",
   "id": "458b4eaf",
   "metadata": {},
   "source": [
    "This `DataFrame` contains information on the 240,000 galaxies classified in the Galaxy Zoo 2 project. Notable columns include:\n",
    "\n",
    "`morphology` is a string describing the shape/type of the galaxy. For astronomers, these are similar to but not identical to the standard Hubble Tuning Fork types. Morphologies beginning with `E` are galaxies with smooth light profiles. Their degree of roundless is encoded by the following character: `r` for completely round, `i` for in-between, and `c` for cigar-shaped. Morphologies beginning with `S` are galaxies with disks. Edge-on disks follow `S` with `er`, `eb`, or `en` for having a round, boxy, or no bulge respectively. Face-on disks have `B` following `S` if they show a bar and `a`, `b`, `c`, `d` next encoding the prominance of the bar: dominant, obvious, just noticable, and none, respectively. \n",
    "\n",
    "`REDSHIFT` is a float containing the spectroscopic redshift of the galaxy. In simplest terms, redshift ($z$) is a measure of distance from us where larger values indicate greater distances and a minimum at $z=0$, indicating no distance from us.  \n",
    "\n",
    "Where relevant, Galaxy Zoo citizen scientists also indicate additional information, like the presence of a ring shape (`ring`), an arc resulting from lensing (`lens/arc`), a galaxy with disturbed morphology (`disturbed`), irregular morphology (`irregular`), a galaxy merger (`merger`), a prominent dust lane (`dust lane`), or something else (`other`). For face-on disk galaxies, the count of spiral arms is available (`arm_count`; `+` indicates more than 4 arms) and how tightly they are wound (`arm_winding`; tightly `t`, moderately `m`, and loosely `l`).\n",
    "\n",
    "`asset_id` can be used for fetching the image of a galaxy. We've provided a helpful `show_image_by_assetid()` function.\n",
    "\n",
    "`embedding_0` to `embedding_767` represent the 1D embedding vector we produced with the pre-trained Swin transformer.\n",
    "\n",
    "Many other features are available like the brightness of the galaxy in `UGRIZ` bands are also available. We also include the sky coordinates and `SDSS` DR7 object IDs in case you'd like to gather other information on these galaxies."
   ]
  },
  {
   "cell_type": "code",
   "execution_count": null,
   "id": "47096575",
   "metadata": {},
   "outputs": [],
   "source": [
    "morphologies = ['Er', 'Ei', 'Ec']\n",
    "filtered_dfs = {morph: gz_df[gz_df['morphology'] == morph].sample(5) for morph in morphologies}\n",
    "\n",
    "fig, axes = plt.subplots(5, 3, figsize=(15, 20))\n",
    "\n",
    "for col, morph in enumerate(morphologies):\n",
    "    for row, (_, row_data) in enumerate(filtered_dfs[morph].iterrows()):\n",
    "        ax = axes[row, col]\n",
    "        show_image_by_assetid(row_data['asset_id'], ax=ax)\n",
    "        ax.set_title(f\"{morph} - {row_data['dr7objid']}\")\n",
    "        ax.axis('off')\n",
    "\n",
    "plt.suptitle('Smooth galaxies with round, intermediate, and cigar shapes', fontsize=16, y=1.01)\n",
    "plt.tight_layout()\n",
    "plt.show()"
   ]
  },
  {
   "cell_type": "code",
   "execution_count": null,
   "id": "2af89e2c",
   "metadata": {},
   "outputs": [],
   "source": [
    "morphologies = ['Ser', 'Seb', 'Sen']\n",
    "filtered_dfs = {morph: gz_df[gz_df['morphology'] == morph].sample(5) for morph in morphologies}\n",
    "\n",
    "fig, axes = plt.subplots(5, 3, figsize=(15, 20))\n",
    "\n",
    "for col, morph in enumerate(morphologies):\n",
    "    for row, (_, row_data) in enumerate(filtered_dfs[morph].iterrows()):\n",
    "        ax = axes[row, col]\n",
    "        show_image_by_assetid(row_data['asset_id'], ax=ax)\n",
    "        ax.set_title(f\"{morph} - {row_data['dr7objid']}\")\n",
    "        ax.axis('off')\n",
    "\n",
    "plt.suptitle('Disk galaxies with round, boxy, and no bulges', fontsize=16, y=1.01)\n",
    "plt.tight_layout()\n",
    "plt.show()"
   ]
  },
  {
   "cell_type": "code",
   "execution_count": null,
   "id": "b84fb215",
   "metadata": {},
   "outputs": [],
   "source": [
    "morphologies = ['SBa', 'SBb', 'SBc', 'SBd']\n",
    "filtered_dfs = {morph: gz_df[gz_df['morphology'] == morph].sample(5) for morph in morphologies}\n",
    "\n",
    "fig, axes = plt.subplots(5, 4, figsize=(15, 20))\n",
    "\n",
    "for col, morph in enumerate(morphologies):\n",
    "    for row, (_, row_data) in enumerate(filtered_dfs[morph].iterrows()):\n",
    "        ax = axes[row, col]\n",
    "        show_image_by_assetid(row_data['asset_id'], ax=ax)\n",
    "        ax.set_title(f\"{morph} - {row_data['dr7objid']}\")\n",
    "        ax.axis('off')\n",
    "\n",
    "plt.suptitle('Disk galaxies with strong (left) to no (right) bars', fontsize=16, y=1.01)\n",
    "plt.tight_layout()\n",
    "plt.show()"
   ]
  },
  {
   "cell_type": "code",
   "execution_count": null,
   "id": "32a43797",
   "metadata": {},
   "outputs": [],
   "source": [
    "flags = ['ring', 'lens/arc', 'merger', 'disturbed', 'other']\n",
    "filtered_rows = [gz_df[gz_df[flag] == 1].sample(1).iloc[0] for flag in flags]\n",
    "\n",
    "fig, axes = plt.subplots(1, 5, figsize=(20, 5))\n",
    "\n",
    "for ax, flag, row_data in zip(axes, flags, filtered_rows):\n",
    "    show_image_by_assetid(row_data['asset_id'], ax=ax)\n",
    "    ax.set_title(f\"{flag.capitalize()} - {row_data['dr7objid']}\")\n",
    "    ax.axis('off')\n",
    "\n",
    "plt.tight_layout()\n",
    "plt.show()"
   ]
  },
  {
   "cell_type": "code",
   "execution_count": null,
   "id": "3999c1b8",
   "metadata": {},
   "outputs": [],
   "source": []
  },
  {
   "cell_type": "code",
   "execution_count": null,
   "id": "707c39bc",
   "metadata": {},
   "outputs": [],
   "source": []
  }
 ],
 "metadata": {
  "kernelspec": {
   "display_name": "BTSbot",
   "language": "python",
   "name": "python3"
  },
  "language_info": {
   "codemirror_mode": {
    "name": "ipython",
    "version": 3
   },
   "file_extension": ".py",
   "mimetype": "text/x-python",
   "name": "python",
   "nbconvert_exporter": "python",
   "pygments_lexer": "ipython3",
   "version": "3.10.16"
  }
 },
 "nbformat": 4,
 "nbformat_minor": 5
}
